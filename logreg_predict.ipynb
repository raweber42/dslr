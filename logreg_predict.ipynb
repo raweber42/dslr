{
 "cells": [
  {
   "cell_type": "code",
   "execution_count": 13,
   "id": "adcb977b",
   "metadata": {},
   "outputs": [],
   "source": [
    "import pandas as pd\n",
    "from colors import colors\n",
    "from matplotlib import pyplot as plt\n",
    "import math\n",
    "import numpy as np"
   ]
  },
  {
   "cell_type": "code",
   "execution_count": 14,
   "id": "6cc250bc",
   "metadata": {},
   "outputs": [],
   "source": [
    "# drops all non-numeric columns but \"Hogwarts House\"\n",
    "def drop_columns(df):\n",
    "    df.drop(columns=['Index'], inplace=True)\n",
    "    for column in df:\n",
    "        if df[column].dtype.kind in 'biufc': # https://stackoverflow.com/a/38185438\n",
    "            continue\n",
    "        if column == 'Hogwarts House':\n",
    "            continue\n",
    "        else:\n",
    "            df.drop(columns=[column], inplace=True)"
   ]
  },
  {
   "cell_type": "code",
   "execution_count": 15,
   "id": "3f3edd4d",
   "metadata": {},
   "outputs": [],
   "source": [
    "def hypothesis(theta, X):\n",
    "    return 1 / (1 + np.exp(-(np.dot(theta, X.T)))) - 0.0000001"
   ]
  },
  {
   "cell_type": "code",
   "execution_count": null,
   "id": "d763d233",
   "metadata": {},
   "outputs": [],
   "source": []
  },
  {
   "cell_type": "code",
   "execution_count": 16,
   "id": "b6722313",
   "metadata": {},
   "outputs": [],
   "source": [
    "# Read test dataset and preprocess it\n",
    "try:\n",
    "    df = pd.read_csv(\"datasets/dataset_test.csv\")\n",
    "except:\n",
    "    print(f\"{colors().RED}Error: could not read dataset test file{colors().END}\")\n",
    "    exit()\n",
    "drop_columns(df)"
   ]
  },
  {
   "cell_type": "code",
   "execution_count": 17,
   "id": "fb9829ec",
   "metadata": {},
   "outputs": [],
   "source": [
    "# Read theta file\n",
    "try:\n",
    "    theta = np.loadtxt('theta.txt')\n",
    "except:\n",
    "    print(f\"{colors().RED}Error: could not read theta.txt file. Train the model first!{colors().END}\")\n",
    "    exit()"
   ]
  },
  {
   "cell_type": "code",
   "execution_count": null,
   "id": "3679992d",
   "metadata": {},
   "outputs": [],
   "source": []
  },
  {
   "cell_type": "code",
   "execution_count": null,
   "id": "e0bbc509",
   "metadata": {},
   "outputs": [],
   "source": [
    "df_without_house = df.drop(columns=[\"Hogwarts House\"])"
   ]
  },
  {
   "cell_type": "code",
   "execution_count": null,
   "id": "6816b492",
   "metadata": {},
   "outputs": [],
   "source": []
  },
  {
   "cell_type": "code",
   "execution_count": null,
   "id": "4abcf1bc",
   "metadata": {},
   "outputs": [],
   "source": []
  },
  {
   "cell_type": "code",
   "execution_count": 12,
   "id": "6c9a971a",
   "metadata": {},
   "outputs": [
    {
     "ename": "NameError",
     "evalue": "name 'X' is not defined",
     "output_type": "error",
     "traceback": [
      "\u001b[0;31m---------------------------------------------------------------------------\u001b[0m",
      "\u001b[0;31mNameError\u001b[0m                                 Traceback (most recent call last)",
      "Cell \u001b[0;32mIn[12], line 2\u001b[0m\n\u001b[1;32m      1\u001b[0m theta \u001b[38;5;241m=\u001b[39m pd\u001b[38;5;241m.\u001b[39mDataFrame(theta)\n\u001b[0;32m----> 2\u001b[0m hypothesis(theta\u001b[38;5;241m.\u001b[39miloc[:,\u001b[38;5;241m3\u001b[39m], \u001b[43mX\u001b[49m)\n",
      "\u001b[0;31mNameError\u001b[0m: name 'X' is not defined"
     ]
    }
   ],
   "source": [
    "theta = pd.DataFrame(theta)\n",
    "hypothesis(theta.iloc[:,3], X)"
   ]
  },
  {
   "cell_type": "code",
   "execution_count": null,
   "id": "77ea7467",
   "metadata": {},
   "outputs": [],
   "source": []
  }
 ],
 "metadata": {
  "kernelspec": {
   "display_name": "Python 3 (ipykernel)",
   "language": "python",
   "name": "python3"
  },
  "language_info": {
   "codemirror_mode": {
    "name": "ipython",
    "version": 3
   },
   "file_extension": ".py",
   "mimetype": "text/x-python",
   "name": "python",
   "nbconvert_exporter": "python",
   "pygments_lexer": "ipython3",
   "version": "3.10.10"
  }
 },
 "nbformat": 4,
 "nbformat_minor": 5
}
