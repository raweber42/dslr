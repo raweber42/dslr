{
 "cells": [
  {
   "cell_type": "code",
   "execution_count": 193,
   "id": "910cbc4b-0d52-4b68-a279-daf5b278315f",
   "metadata": {
    "tags": []
   },
   "outputs": [],
   "source": [
    "import pandas as pd\n",
    "from colors import colors\n",
    "from matplotlib import pyplot as plt\n",
    "import math\n",
    "import numpy as np"
   ]
  },
  {
   "cell_type": "code",
   "execution_count": 194,
   "id": "27f40f57",
   "metadata": {},
   "outputs": [],
   "source": [
    "def hypothesis(theta, X):\n",
    "    return 1 / (1 + np.exp(-(np.dot(theta, X.T)))) - 0.0000001"
   ]
  },
  {
   "cell_type": "code",
   "execution_count": 195,
   "id": "332820e7",
   "metadata": {},
   "outputs": [],
   "source": [
    "def cost(X, y, theta):\n",
    "    y1 = hypothesis(X, theta)\n",
    "    return -(1/len(X)) * np.sum(y * np.log(y1) + (1 - y) * np.log(1 - y1))"
   ]
  },
  {
   "cell_type": "code",
   "execution_count": 196,
   "id": "fa16e412-6db6-4a15-a951-6b0b7014c73c",
   "metadata": {
    "tags": []
   },
   "outputs": [],
   "source": [
    "# drops all non-numeric columns but \"Hogwarts House\"\n",
    "def arrange_columns(df):\n",
    "    # drop index column\n",
    "    df.drop(columns=['Index'], inplace=True)\n",
    "    for column in df:\n",
    "        if df[column].dtype.kind in 'biufc': # https://stackoverflow.com/a/38185438\n",
    "            continue\n",
    "        if column == 'Hogwarts House':\n",
    "            continue\n",
    "        else:\n",
    "            df.drop(columns=[column], inplace=True)"
   ]
  },
  {
   "cell_type": "code",
   "execution_count": 197,
   "id": "d6c306a4-5ddb-4c3f-b32b-fa95081374f0",
   "metadata": {
    "tags": []
   },
   "outputs": [],
   "source": [
    "# adds newlines to long label names\n",
    "def adjust_plot_labels(df):\n",
    "    new_column_names = []\n",
    "    for column in df:\n",
    "        if column == 'Hogwarts House':\n",
    "            new_column_names.append(column)\n",
    "        elif len(column) > 15:\n",
    "            split_col = column.split(\" \")\n",
    "            tmp_col_name = \"\"\n",
    "            for i in range(len(split_col)):\n",
    "                tmp_col_name += split_col[i]\n",
    "                if i % 2:\n",
    "                    tmp_col_name += \"\\n\"\n",
    "                else:\n",
    "                    tmp_col_name += \" \"\n",
    "            new_column_names.append(tmp_col_name)\n",
    "        else:\n",
    "            new_column_names.append(column)\n",
    "    df.columns = new_column_names"
   ]
  },
  {
   "cell_type": "code",
   "execution_count": 198,
   "id": "5dc4b727",
   "metadata": {},
   "outputs": [],
   "source": [
    "# CHANGE THIS TO MY GRADIENT DESCENT\n",
    "def gradient_descent(X, y, theta, alpha, epochs):\n",
    "    m = len(X)\n",
    "    #cost = [[] for i in range(10)]\n",
    "    for i in range(0, epochs):\n",
    "        for j in range(0, 10):\n",
    "            theta = pd.DataFrame(theta)\n",
    "            h = hypothesis(theta.iloc[:,j], X)\n",
    "            for k in range(0, theta.shape[0]):\n",
    "                theta.iloc[k, j] -= (alpha/m) * np.sum((h-y.iloc[:, j])*X.iloc[:, k])\n",
    "            theta = pd.DataFrame(theta)\n",
    "            #c =cost(X, y.iloc[:, j], theta.iloc[:,j])\n",
    "            #cost[j].append(c)\n",
    "    return theta  "
   ]
  },
  {
   "cell_type": "code",
   "execution_count": 199,
   "id": "842c453b-b4f0-4664-b91d-331c61dc352f",
   "metadata": {
    "tags": []
   },
   "outputs": [],
   "source": [
    "# Read dataset and preprocess it\n",
    "try:\n",
    "    df = pd.read_csv(\"datasets/dataset_train.csv\")\n",
    "except:\n",
    "    print(f\"{colors().RED}Error: could not read file{colors().END}\")\n",
    "    exit()\n",
    "arrange_columns(df)\n",
    "adjust_plot_labels(df)"
   ]
  },
  {
   "cell_type": "code",
   "execution_count": 200,
   "id": "ea69d13c-8bf7-4292-bfee-e286730f80c9",
   "metadata": {
    "tags": []
   },
   "outputs": [],
   "source": [
    "# Normalize data\n",
    "for column in df:\n",
    "    if df[column].dtype.kind not in 'biufc': # https://stackoverflow.com/a/38185438\n",
    "        continue\n",
    "    max_norm = df[column].max()\n",
    "    min_norm = df[column].min()\n",
    "\n",
    "    for i in range(len(df)):\n",
    "        df.iloc[i, df.columns.get_loc(column)] = (df.iloc[i, df.columns.get_loc(column)] - min_norm) / (max_norm - min_norm)\n",
    "        # make missing data zero\n",
    "        if math.isnan(df.iloc[i, df.columns.get_loc(column)]) == True:\n",
    "            #print(df.iloc[i, df.columns.get_loc(column)])\n",
    "            df.iloc[i, df.columns.get_loc(column)] = 0\n",
    "            #print(df.iloc[i, df.columns.get_loc(column)])"
   ]
  },
  {
   "cell_type": "code",
   "execution_count": 201,
   "id": "6f68e79d-8157-4ed0-abe5-10e1d7d9c13b",
   "metadata": {
    "tags": []
   },
   "outputs": [],
   "source": [
    "#plt.scatter(df.Flying, df[\"Hogwarts House\"])"
   ]
  },
  {
   "cell_type": "code",
   "execution_count": 202,
   "id": "1e5496fc-0535-4ce4-a64a-1b20369c4612",
   "metadata": {
    "tags": []
   },
   "outputs": [],
   "source": [
    "from sklearn.model_selection import train_test_split"
   ]
  },
  {
   "cell_type": "code",
   "execution_count": 203,
   "id": "f632fb91-19d7-46ff-a508-4c40aef19a31",
   "metadata": {
    "tags": []
   },
   "outputs": [],
   "source": [
    "#split in input and output variables\n",
    "df_without_house = df.drop(columns=[\"Hogwarts House\"])\n",
    "df_only_house = df[\"Hogwarts House\"]"
   ]
  },
  {
   "cell_type": "code",
   "execution_count": 204,
   "id": "6c258f20",
   "metadata": {},
   "outputs": [
    {
     "data": {
      "text/html": [
       "<div>\n",
       "<style scoped>\n",
       "    .dataframe tbody tr th:only-of-type {\n",
       "        vertical-align: middle;\n",
       "    }\n",
       "\n",
       "    .dataframe tbody tr th {\n",
       "        vertical-align: top;\n",
       "    }\n",
       "\n",
       "    .dataframe thead th {\n",
       "        text-align: right;\n",
       "    }\n",
       "</style>\n",
       "<table border=\"1\" class=\"dataframe\">\n",
       "  <thead>\n",
       "    <tr style=\"text-align: right;\">\n",
       "      <th></th>\n",
       "      <th>Arithmancy</th>\n",
       "      <th>Astronomy</th>\n",
       "      <th>Herbology</th>\n",
       "      <th>Defense Against\\nthe Dark\\nArts</th>\n",
       "      <th>Divination</th>\n",
       "      <th>Muggle Studies</th>\n",
       "      <th>Ancient Runes</th>\n",
       "      <th>History of\\nMagic</th>\n",
       "      <th>Transfiguration</th>\n",
       "      <th>Potions</th>\n",
       "      <th>Care of\\nMagical Creatures\\n</th>\n",
       "      <th>Charms</th>\n",
       "      <th>Flying</th>\n",
       "    </tr>\n",
       "  </thead>\n",
       "  <tbody>\n",
       "    <tr>\n",
       "      <th>0</th>\n",
       "      <td>0.639887</td>\n",
       "      <td>0.241486</td>\n",
       "      <td>0.731351</td>\n",
       "      <td>0.758514</td>\n",
       "      <td>0.716936</td>\n",
       "      <td>0.623499</td>\n",
       "      <td>0.538679</td>\n",
       "      <td>0.679081</td>\n",
       "      <td>0.692354</td>\n",
       "      <td>0.465490</td>\n",
       "      <td>0.632571</td>\n",
       "      <td>0.793213</td>\n",
       "      <td>0.335649</td>\n",
       "    </tr>\n",
       "    <tr>\n",
       "      <th>1</th>\n",
       "      <td>0.708357</td>\n",
       "      <td>0.209123</td>\n",
       "      <td>0.196645</td>\n",
       "      <td>0.790877</td>\n",
       "      <td>0.166054</td>\n",
       "      <td>0.274983</td>\n",
       "      <td>0.181768</td>\n",
       "      <td>0.624914</td>\n",
       "      <td>0.791954</td>\n",
       "      <td>0.655153</td>\n",
       "      <td>0.534573</td>\n",
       "      <td>0.248862</td>\n",
       "      <td>0.147696</td>\n",
       "    </tr>\n",
       "    <tr>\n",
       "      <th>2</th>\n",
       "      <td>0.371712</td>\n",
       "      <td>0.302914</td>\n",
       "      <td>0.822541</td>\n",
       "      <td>0.697086</td>\n",
       "      <td>0.792526</td>\n",
       "      <td>0.803801</td>\n",
       "      <td>0.690568</td>\n",
       "      <td>0.598330</td>\n",
       "      <td>0.943484</td>\n",
       "      <td>0.736308</td>\n",
       "      <td>0.439286</td>\n",
       "      <td>0.946253</td>\n",
       "      <td>0.460090</td>\n",
       "    </tr>\n",
       "    <tr>\n",
       "      <th>3</th>\n",
       "      <td>0.441033</td>\n",
       "      <td>0.839396</td>\n",
       "      <td>0.173377</td>\n",
       "      <td>0.160604</td>\n",
       "      <td>0.679834</td>\n",
       "      <td>0.252191</td>\n",
       "      <td>0.520257</td>\n",
       "      <td>0.195162</td>\n",
       "      <td>0.071565</td>\n",
       "      <td>0.302694</td>\n",
       "      <td>0.517978</td>\n",
       "      <td>0.117970</td>\n",
       "      <td>0.829700</td>\n",
       "    </tr>\n",
       "    <tr>\n",
       "      <th>4</th>\n",
       "      <td>0.653604</td>\n",
       "      <td>0.707791</td>\n",
       "      <td>0.112971</td>\n",
       "      <td>0.000000</td>\n",
       "      <td>0.584413</td>\n",
       "      <td>0.294754</td>\n",
       "      <td>0.683503</td>\n",
       "      <td>0.260962</td>\n",
       "      <td>0.160179</td>\n",
       "      <td>0.494046</td>\n",
       "      <td>0.478728</td>\n",
       "      <td>0.130868</td>\n",
       "      <td>0.737070</td>\n",
       "    </tr>\n",
       "    <tr>\n",
       "      <th>...</th>\n",
       "      <td>...</td>\n",
       "      <td>...</td>\n",
       "      <td>...</td>\n",
       "      <td>...</td>\n",
       "      <td>...</td>\n",
       "      <td>...</td>\n",
       "      <td>...</td>\n",
       "      <td>...</td>\n",
       "      <td>...</td>\n",
       "      <td>...</td>\n",
       "      <td>...</td>\n",
       "      <td>...</td>\n",
       "      <td>...</td>\n",
       "    </tr>\n",
       "    <tr>\n",
       "      <th>1595</th>\n",
       "      <td>0.567396</td>\n",
       "      <td>0.666189</td>\n",
       "      <td>0.262629</td>\n",
       "      <td>0.333811</td>\n",
       "      <td>0.769177</td>\n",
       "      <td>0.270442</td>\n",
       "      <td>0.724445</td>\n",
       "      <td>0.174819</td>\n",
       "      <td>0.299445</td>\n",
       "      <td>0.443483</td>\n",
       "      <td>0.418148</td>\n",
       "      <td>0.299121</td>\n",
       "      <td>0.797542</td>\n",
       "    </tr>\n",
       "    <tr>\n",
       "      <th>1596</th>\n",
       "      <td>0.677868</td>\n",
       "      <td>0.672871</td>\n",
       "      <td>0.746591</td>\n",
       "      <td>0.327129</td>\n",
       "      <td>0.558878</td>\n",
       "      <td>0.203419</td>\n",
       "      <td>0.350918</td>\n",
       "      <td>0.534834</td>\n",
       "      <td>0.777411</td>\n",
       "      <td>0.577087</td>\n",
       "      <td>0.467757</td>\n",
       "      <td>0.410483</td>\n",
       "      <td>0.491315</td>\n",
       "    </tr>\n",
       "    <tr>\n",
       "      <th>1597</th>\n",
       "      <td>0.682577</td>\n",
       "      <td>0.761874</td>\n",
       "      <td>0.323727</td>\n",
       "      <td>0.238126</td>\n",
       "      <td>0.788528</td>\n",
       "      <td>0.321883</td>\n",
       "      <td>0.761260</td>\n",
       "      <td>0.138550</td>\n",
       "      <td>0.245615</td>\n",
       "      <td>0.351388</td>\n",
       "      <td>0.531417</td>\n",
       "      <td>0.264231</td>\n",
       "      <td>0.824988</td>\n",
       "    </tr>\n",
       "    <tr>\n",
       "      <th>1598</th>\n",
       "      <td>0.828008</td>\n",
       "      <td>0.716314</td>\n",
       "      <td>0.627083</td>\n",
       "      <td>0.283686</td>\n",
       "      <td>0.824404</td>\n",
       "      <td>0.116920</td>\n",
       "      <td>0.215752</td>\n",
       "      <td>0.610742</td>\n",
       "      <td>0.942760</td>\n",
       "      <td>0.471727</td>\n",
       "      <td>0.436688</td>\n",
       "      <td>0.417122</td>\n",
       "      <td>0.227255</td>\n",
       "    </tr>\n",
       "    <tr>\n",
       "      <th>1599</th>\n",
       "      <td>0.564535</td>\n",
       "      <td>0.834943</td>\n",
       "      <td>0.717378</td>\n",
       "      <td>0.165057</td>\n",
       "      <td>0.816675</td>\n",
       "      <td>0.391158</td>\n",
       "      <td>0.121132</td>\n",
       "      <td>0.774381</td>\n",
       "      <td>0.667083</td>\n",
       "      <td>0.370166</td>\n",
       "      <td>0.543813</td>\n",
       "      <td>0.478044</td>\n",
       "      <td>0.275112</td>\n",
       "    </tr>\n",
       "  </tbody>\n",
       "</table>\n",
       "<p>1600 rows × 13 columns</p>\n",
       "</div>"
      ],
      "text/plain": [
       "      Arithmancy  Astronomy  Herbology  Defense Against\\nthe Dark\\nArts   \\\n",
       "0       0.639887   0.241486   0.731351                          0.758514   \n",
       "1       0.708357   0.209123   0.196645                          0.790877   \n",
       "2       0.371712   0.302914   0.822541                          0.697086   \n",
       "3       0.441033   0.839396   0.173377                          0.160604   \n",
       "4       0.653604   0.707791   0.112971                          0.000000   \n",
       "...          ...        ...        ...                               ...   \n",
       "1595    0.567396   0.666189   0.262629                          0.333811   \n",
       "1596    0.677868   0.672871   0.746591                          0.327129   \n",
       "1597    0.682577   0.761874   0.323727                          0.238126   \n",
       "1598    0.828008   0.716314   0.627083                          0.283686   \n",
       "1599    0.564535   0.834943   0.717378                          0.165057   \n",
       "\n",
       "      Divination  Muggle Studies  Ancient Runes  History of\\nMagic   \\\n",
       "0       0.716936        0.623499       0.538679            0.679081   \n",
       "1       0.166054        0.274983       0.181768            0.624914   \n",
       "2       0.792526        0.803801       0.690568            0.598330   \n",
       "3       0.679834        0.252191       0.520257            0.195162   \n",
       "4       0.584413        0.294754       0.683503            0.260962   \n",
       "...          ...             ...            ...                 ...   \n",
       "1595    0.769177        0.270442       0.724445            0.174819   \n",
       "1596    0.558878        0.203419       0.350918            0.534834   \n",
       "1597    0.788528        0.321883       0.761260            0.138550   \n",
       "1598    0.824404        0.116920       0.215752            0.610742   \n",
       "1599    0.816675        0.391158       0.121132            0.774381   \n",
       "\n",
       "      Transfiguration   Potions  Care of\\nMagical Creatures\\n    Charms  \\\n",
       "0            0.692354  0.465490                      0.632571  0.793213   \n",
       "1            0.791954  0.655153                      0.534573  0.248862   \n",
       "2            0.943484  0.736308                      0.439286  0.946253   \n",
       "3            0.071565  0.302694                      0.517978  0.117970   \n",
       "4            0.160179  0.494046                      0.478728  0.130868   \n",
       "...               ...       ...                           ...       ...   \n",
       "1595         0.299445  0.443483                      0.418148  0.299121   \n",
       "1596         0.777411  0.577087                      0.467757  0.410483   \n",
       "1597         0.245615  0.351388                      0.531417  0.264231   \n",
       "1598         0.942760  0.471727                      0.436688  0.417122   \n",
       "1599         0.667083  0.370166                      0.543813  0.478044   \n",
       "\n",
       "        Flying  \n",
       "0     0.335649  \n",
       "1     0.147696  \n",
       "2     0.460090  \n",
       "3     0.829700  \n",
       "4     0.737070  \n",
       "...        ...  \n",
       "1595  0.797542  \n",
       "1596  0.491315  \n",
       "1597  0.824988  \n",
       "1598  0.227255  \n",
       "1599  0.275112  \n",
       "\n",
       "[1600 rows x 13 columns]"
      ]
     },
     "execution_count": 204,
     "metadata": {},
     "output_type": "execute_result"
    }
   ],
   "source": [
    "df_without_house"
   ]
  },
  {
   "cell_type": "code",
   "execution_count": 205,
   "id": "648ca0b7",
   "metadata": {},
   "outputs": [
    {
     "data": {
      "text/html": [
       "<div>\n",
       "<style scoped>\n",
       "    .dataframe tbody tr th:only-of-type {\n",
       "        vertical-align: middle;\n",
       "    }\n",
       "\n",
       "    .dataframe tbody tr th {\n",
       "        vertical-align: top;\n",
       "    }\n",
       "\n",
       "    .dataframe thead th {\n",
       "        text-align: right;\n",
       "    }\n",
       "</style>\n",
       "<table border=\"1\" class=\"dataframe\">\n",
       "  <thead>\n",
       "    <tr style=\"text-align: right;\">\n",
       "      <th></th>\n",
       "      <th>0</th>\n",
       "      <th>1</th>\n",
       "      <th>2</th>\n",
       "      <th>3</th>\n",
       "    </tr>\n",
       "  </thead>\n",
       "  <tbody>\n",
       "    <tr>\n",
       "      <th>0</th>\n",
       "      <td>0.0</td>\n",
       "      <td>0.0</td>\n",
       "      <td>0.0</td>\n",
       "      <td>0.0</td>\n",
       "    </tr>\n",
       "    <tr>\n",
       "      <th>1</th>\n",
       "      <td>0.0</td>\n",
       "      <td>0.0</td>\n",
       "      <td>0.0</td>\n",
       "      <td>0.0</td>\n",
       "    </tr>\n",
       "    <tr>\n",
       "      <th>2</th>\n",
       "      <td>0.0</td>\n",
       "      <td>0.0</td>\n",
       "      <td>0.0</td>\n",
       "      <td>0.0</td>\n",
       "    </tr>\n",
       "    <tr>\n",
       "      <th>3</th>\n",
       "      <td>0.0</td>\n",
       "      <td>0.0</td>\n",
       "      <td>0.0</td>\n",
       "      <td>0.0</td>\n",
       "    </tr>\n",
       "    <tr>\n",
       "      <th>4</th>\n",
       "      <td>0.0</td>\n",
       "      <td>0.0</td>\n",
       "      <td>0.0</td>\n",
       "      <td>0.0</td>\n",
       "    </tr>\n",
       "    <tr>\n",
       "      <th>...</th>\n",
       "      <td>...</td>\n",
       "      <td>...</td>\n",
       "      <td>...</td>\n",
       "      <td>...</td>\n",
       "    </tr>\n",
       "    <tr>\n",
       "      <th>1595</th>\n",
       "      <td>0.0</td>\n",
       "      <td>0.0</td>\n",
       "      <td>0.0</td>\n",
       "      <td>0.0</td>\n",
       "    </tr>\n",
       "    <tr>\n",
       "      <th>1596</th>\n",
       "      <td>0.0</td>\n",
       "      <td>0.0</td>\n",
       "      <td>0.0</td>\n",
       "      <td>0.0</td>\n",
       "    </tr>\n",
       "    <tr>\n",
       "      <th>1597</th>\n",
       "      <td>0.0</td>\n",
       "      <td>0.0</td>\n",
       "      <td>0.0</td>\n",
       "      <td>0.0</td>\n",
       "    </tr>\n",
       "    <tr>\n",
       "      <th>1598</th>\n",
       "      <td>0.0</td>\n",
       "      <td>0.0</td>\n",
       "      <td>0.0</td>\n",
       "      <td>0.0</td>\n",
       "    </tr>\n",
       "    <tr>\n",
       "      <th>1599</th>\n",
       "      <td>0.0</td>\n",
       "      <td>0.0</td>\n",
       "      <td>0.0</td>\n",
       "      <td>0.0</td>\n",
       "    </tr>\n",
       "  </tbody>\n",
       "</table>\n",
       "<p>1600 rows × 4 columns</p>\n",
       "</div>"
      ],
      "text/plain": [
       "        0    1    2    3\n",
       "0     0.0  0.0  0.0  0.0\n",
       "1     0.0  0.0  0.0  0.0\n",
       "2     0.0  0.0  0.0  0.0\n",
       "3     0.0  0.0  0.0  0.0\n",
       "4     0.0  0.0  0.0  0.0\n",
       "...   ...  ...  ...  ...\n",
       "1595  0.0  0.0  0.0  0.0\n",
       "1596  0.0  0.0  0.0  0.0\n",
       "1597  0.0  0.0  0.0  0.0\n",
       "1598  0.0  0.0  0.0  0.0\n",
       "1599  0.0  0.0  0.0  0.0\n",
       "\n",
       "[1600 rows x 4 columns]"
      ]
     },
     "execution_count": 205,
     "metadata": {},
     "output_type": "execute_result"
    }
   ],
   "source": [
    "# House belonging matrix (get's filled with '1' for corresponding house)\n",
    "y1 = np.zeros([df_without_house.shape[0], len(df_only_house.unique())])\n",
    "y1 = pd.DataFrame(y1)\n",
    "y1"
   ]
  },
  {
   "cell_type": "code",
   "execution_count": 206,
   "id": "3ae68704",
   "metadata": {},
   "outputs": [
    {
     "data": {
      "text/html": [
       "<div>\n",
       "<style scoped>\n",
       "    .dataframe tbody tr th:only-of-type {\n",
       "        vertical-align: middle;\n",
       "    }\n",
       "\n",
       "    .dataframe tbody tr th {\n",
       "        vertical-align: top;\n",
       "    }\n",
       "\n",
       "    .dataframe thead th {\n",
       "        text-align: right;\n",
       "    }\n",
       "</style>\n",
       "<table border=\"1\" class=\"dataframe\">\n",
       "  <thead>\n",
       "    <tr style=\"text-align: right;\">\n",
       "      <th></th>\n",
       "      <th>0</th>\n",
       "      <th>1</th>\n",
       "      <th>2</th>\n",
       "      <th>3</th>\n",
       "    </tr>\n",
       "  </thead>\n",
       "  <tbody>\n",
       "    <tr>\n",
       "      <th>0</th>\n",
       "      <td>1.0</td>\n",
       "      <td>0.0</td>\n",
       "      <td>0.0</td>\n",
       "      <td>0.0</td>\n",
       "    </tr>\n",
       "    <tr>\n",
       "      <th>1</th>\n",
       "      <td>0.0</td>\n",
       "      <td>1.0</td>\n",
       "      <td>0.0</td>\n",
       "      <td>0.0</td>\n",
       "    </tr>\n",
       "    <tr>\n",
       "      <th>2</th>\n",
       "      <td>1.0</td>\n",
       "      <td>0.0</td>\n",
       "      <td>0.0</td>\n",
       "      <td>0.0</td>\n",
       "    </tr>\n",
       "    <tr>\n",
       "      <th>3</th>\n",
       "      <td>0.0</td>\n",
       "      <td>0.0</td>\n",
       "      <td>1.0</td>\n",
       "      <td>0.0</td>\n",
       "    </tr>\n",
       "    <tr>\n",
       "      <th>4</th>\n",
       "      <td>0.0</td>\n",
       "      <td>0.0</td>\n",
       "      <td>1.0</td>\n",
       "      <td>0.0</td>\n",
       "    </tr>\n",
       "  </tbody>\n",
       "</table>\n",
       "</div>"
      ],
      "text/plain": [
       "     0    1    2    3\n",
       "0  1.0  0.0  0.0  0.0\n",
       "1  0.0  1.0  0.0  0.0\n",
       "2  1.0  0.0  0.0  0.0\n",
       "3  0.0  0.0  1.0  0.0\n",
       "4  0.0  0.0  1.0  0.0"
      ]
     },
     "execution_count": 206,
     "metadata": {},
     "output_type": "execute_result"
    }
   ],
   "source": [
    "for i in range(0, len(df_only_house.unique())):\n",
    "    for j in range(0, len(y1)):\n",
    "        if df_only_house[j] == df_only_house.unique()[i]:\n",
    "            y1.iloc[j, i] = 1\n",
    "        else:\n",
    "            y1.iloc[j, i] = 0\n",
    "y1.head()"
   ]
  },
  {
   "cell_type": "code",
   "execution_count": 207,
   "id": "c99d4077",
   "metadata": {},
   "outputs": [
    {
     "data": {
      "text/html": [
       "<div>\n",
       "<style scoped>\n",
       "    .dataframe tbody tr th:only-of-type {\n",
       "        vertical-align: middle;\n",
       "    }\n",
       "\n",
       "    .dataframe tbody tr th {\n",
       "        vertical-align: top;\n",
       "    }\n",
       "\n",
       "    .dataframe thead th {\n",
       "        text-align: right;\n",
       "    }\n",
       "</style>\n",
       "<table border=\"1\" class=\"dataframe\">\n",
       "  <thead>\n",
       "    <tr style=\"text-align: right;\">\n",
       "      <th></th>\n",
       "      <th>0</th>\n",
       "      <th>1</th>\n",
       "      <th>2</th>\n",
       "      <th>3</th>\n",
       "    </tr>\n",
       "  </thead>\n",
       "  <tbody>\n",
       "    <tr>\n",
       "      <th>1595</th>\n",
       "      <td>0.0</td>\n",
       "      <td>0.0</td>\n",
       "      <td>1.0</td>\n",
       "      <td>0.0</td>\n",
       "    </tr>\n",
       "    <tr>\n",
       "      <th>1596</th>\n",
       "      <td>0.0</td>\n",
       "      <td>1.0</td>\n",
       "      <td>0.0</td>\n",
       "      <td>0.0</td>\n",
       "    </tr>\n",
       "    <tr>\n",
       "      <th>1597</th>\n",
       "      <td>0.0</td>\n",
       "      <td>0.0</td>\n",
       "      <td>1.0</td>\n",
       "      <td>0.0</td>\n",
       "    </tr>\n",
       "    <tr>\n",
       "      <th>1598</th>\n",
       "      <td>0.0</td>\n",
       "      <td>0.0</td>\n",
       "      <td>0.0</td>\n",
       "      <td>1.0</td>\n",
       "    </tr>\n",
       "    <tr>\n",
       "      <th>1599</th>\n",
       "      <td>0.0</td>\n",
       "      <td>0.0</td>\n",
       "      <td>0.0</td>\n",
       "      <td>1.0</td>\n",
       "    </tr>\n",
       "  </tbody>\n",
       "</table>\n",
       "</div>"
      ],
      "text/plain": [
       "        0    1    2    3\n",
       "1595  0.0  0.0  1.0  0.0\n",
       "1596  0.0  1.0  0.0  0.0\n",
       "1597  0.0  0.0  1.0  0.0\n",
       "1598  0.0  0.0  0.0  1.0\n",
       "1599  0.0  0.0  0.0  1.0"
      ]
     },
     "execution_count": 207,
     "metadata": {},
     "output_type": "execute_result"
    }
   ],
   "source": [
    "y1.tail()"
   ]
  },
  {
   "cell_type": "code",
   "execution_count": 208,
   "id": "7cd50c22",
   "metadata": {},
   "outputs": [
    {
     "data": {
      "text/plain": [
       "(1600, 4)"
      ]
     },
     "execution_count": 208,
     "metadata": {},
     "output_type": "execute_result"
    }
   ],
   "source": [
    "y1.shape"
   ]
  },
  {
   "cell_type": "code",
   "execution_count": 209,
   "id": "d487958e",
   "metadata": {},
   "outputs": [
    {
     "data": {
      "text/plain": [
       "(14, 4)"
      ]
     },
     "execution_count": 209,
     "metadata": {},
     "output_type": "execute_result"
    }
   ],
   "source": [
    "# why 15?? -> 13 courses + bias + index?\n",
    "theta = np.zeros([df_without_house.shape[1]+1, y1.shape[1]])\n",
    "theta.shape\n",
    "# here 14"
   ]
  },
  {
   "cell_type": "code",
   "execution_count": 210,
   "id": "52888530",
   "metadata": {},
   "outputs": [
    {
     "data": {
      "text/plain": [
       "(1600, 14)"
      ]
     },
     "execution_count": 210,
     "metadata": {},
     "output_type": "execute_result"
    }
   ],
   "source": [
    "#add a bias column\n",
    "X = pd.concat([pd.Series(1, index=df_without_house.index, name='bias'), df_without_house], axis=1)\n",
    "X.shape"
   ]
  },
  {
   "cell_type": "code",
   "execution_count": 211,
   "id": "469e99bf",
   "metadata": {},
   "outputs": [
    {
     "data": {
      "text/plain": [
       "(14,)"
      ]
     },
     "execution_count": 211,
     "metadata": {},
     "output_type": "execute_result"
    }
   ],
   "source": [
    "# theta array, all filled with '1'\n",
    "theta = np.ones(df_without_house.shape[1]+1)\n",
    "theta.shape\n",
    "# here 15, why???"
   ]
  },
  {
   "cell_type": "code",
   "execution_count": 212,
   "id": "5ed492cc",
   "metadata": {},
   "outputs": [
    {
     "data": {
      "text/plain": [
       "array([0.99985635, 0.99854442, 0.99993251, ..., 0.99927891, 0.99955555,\n",
       "       0.999556  ])"
      ]
     },
     "execution_count": 212,
     "metadata": {},
     "output_type": "execute_result"
    }
   ],
   "source": [
    "h = hypothesis(theta, X)\n",
    "h"
   ]
  },
  {
   "cell_type": "code",
   "execution_count": 213,
   "id": "98e73f06",
   "metadata": {},
   "outputs": [
    {
     "data": {
      "text/plain": [
       "pandas.core.series.Series"
      ]
     },
     "execution_count": 213,
     "metadata": {},
     "output_type": "execute_result"
    }
   ],
   "source": [
    "theta = pd.DataFrame(theta)\n",
    "type(theta.iloc[:,0])"
   ]
  },
  {
   "cell_type": "code",
   "execution_count": 214,
   "id": "4bc5b4b9",
   "metadata": {},
   "outputs": [
    {
     "ename": "IndexError",
     "evalue": "single positional indexer is out-of-bounds",
     "output_type": "error",
     "traceback": [
      "\u001b[0;31m---------------------------------------------------------------------------\u001b[0m",
      "\u001b[0;31mIndexError\u001b[0m                                Traceback (most recent call last)",
      "Cell \u001b[0;32mIn[214], line 3\u001b[0m\n\u001b[1;32m      1\u001b[0m \u001b[38;5;66;03m# WHAT IS BIG X????\u001b[39;00m\n\u001b[1;32m      2\u001b[0m theta \u001b[38;5;241m=\u001b[39m np\u001b[38;5;241m.\u001b[39mzeros([df_without_house\u001b[38;5;241m.\u001b[39mshape[\u001b[38;5;241m1\u001b[39m]\u001b[38;5;241m+\u001b[39m\u001b[38;5;241m1\u001b[39m, y1\u001b[38;5;241m.\u001b[39mshape[\u001b[38;5;241m1\u001b[39m]])\n\u001b[0;32m----> 3\u001b[0m theta \u001b[38;5;241m=\u001b[39m \u001b[43mgradient_descent\u001b[49m\u001b[43m(\u001b[49m\u001b[43mX\u001b[49m\u001b[43m,\u001b[49m\u001b[43m \u001b[49m\u001b[43my1\u001b[49m\u001b[43m,\u001b[49m\u001b[43m \u001b[49m\u001b[43mtheta\u001b[49m\u001b[43m,\u001b[49m\u001b[43m \u001b[49m\u001b[38;5;241;43m0.02\u001b[39;49m\u001b[43m,\u001b[49m\u001b[43m \u001b[49m\u001b[38;5;241;43m1500\u001b[39;49m\u001b[43m)\u001b[49m\n\u001b[1;32m      4\u001b[0m theta\n",
      "Cell \u001b[0;32mIn[198], line 8\u001b[0m, in \u001b[0;36mgradient_descent\u001b[0;34m(X, y, theta, alpha, epochs)\u001b[0m\n\u001b[1;32m      6\u001b[0m \u001b[38;5;28;01mfor\u001b[39;00m j \u001b[38;5;129;01min\u001b[39;00m \u001b[38;5;28mrange\u001b[39m(\u001b[38;5;241m0\u001b[39m, \u001b[38;5;241m10\u001b[39m):\n\u001b[1;32m      7\u001b[0m     theta \u001b[38;5;241m=\u001b[39m pd\u001b[38;5;241m.\u001b[39mDataFrame(theta)\n\u001b[0;32m----> 8\u001b[0m     h \u001b[38;5;241m=\u001b[39m hypothesis(\u001b[43mtheta\u001b[49m\u001b[38;5;241;43m.\u001b[39;49m\u001b[43miloc\u001b[49m\u001b[43m[\u001b[49m\u001b[43m:\u001b[49m\u001b[43m,\u001b[49m\u001b[43mj\u001b[49m\u001b[43m]\u001b[49m, X)\n\u001b[1;32m      9\u001b[0m     \u001b[38;5;28;01mfor\u001b[39;00m k \u001b[38;5;129;01min\u001b[39;00m \u001b[38;5;28mrange\u001b[39m(\u001b[38;5;241m0\u001b[39m, theta\u001b[38;5;241m.\u001b[39mshape[\u001b[38;5;241m0\u001b[39m]):\n\u001b[1;32m     10\u001b[0m         theta\u001b[38;5;241m.\u001b[39miloc[k, j] \u001b[38;5;241m-\u001b[39m\u001b[38;5;241m=\u001b[39m (alpha\u001b[38;5;241m/\u001b[39mm) \u001b[38;5;241m*\u001b[39m np\u001b[38;5;241m.\u001b[39msum((h\u001b[38;5;241m-\u001b[39my\u001b[38;5;241m.\u001b[39miloc[:, j])\u001b[38;5;241m*\u001b[39mX\u001b[38;5;241m.\u001b[39miloc[:, k])\n",
      "File \u001b[0;32m~/.local/lib/python3.10/site-packages/pandas/core/indexing.py:1067\u001b[0m, in \u001b[0;36m_LocationIndexer.__getitem__\u001b[0;34m(self, key)\u001b[0m\n\u001b[1;32m   1065\u001b[0m     \u001b[38;5;28;01mif\u001b[39;00m \u001b[38;5;28mself\u001b[39m\u001b[38;5;241m.\u001b[39m_is_scalar_access(key):\n\u001b[1;32m   1066\u001b[0m         \u001b[38;5;28;01mreturn\u001b[39;00m \u001b[38;5;28mself\u001b[39m\u001b[38;5;241m.\u001b[39mobj\u001b[38;5;241m.\u001b[39m_get_value(\u001b[38;5;241m*\u001b[39mkey, takeable\u001b[38;5;241m=\u001b[39m\u001b[38;5;28mself\u001b[39m\u001b[38;5;241m.\u001b[39m_takeable)\n\u001b[0;32m-> 1067\u001b[0m     \u001b[38;5;28;01mreturn\u001b[39;00m \u001b[38;5;28;43mself\u001b[39;49m\u001b[38;5;241;43m.\u001b[39;49m\u001b[43m_getitem_tuple\u001b[49m\u001b[43m(\u001b[49m\u001b[43mkey\u001b[49m\u001b[43m)\u001b[49m\n\u001b[1;32m   1068\u001b[0m \u001b[38;5;28;01melse\u001b[39;00m:\n\u001b[1;32m   1069\u001b[0m     \u001b[38;5;66;03m# we by definition only have the 0th axis\u001b[39;00m\n\u001b[1;32m   1070\u001b[0m     axis \u001b[38;5;241m=\u001b[39m \u001b[38;5;28mself\u001b[39m\u001b[38;5;241m.\u001b[39maxis \u001b[38;5;129;01mor\u001b[39;00m \u001b[38;5;241m0\u001b[39m\n",
      "File \u001b[0;32m~/.local/lib/python3.10/site-packages/pandas/core/indexing.py:1563\u001b[0m, in \u001b[0;36m_iLocIndexer._getitem_tuple\u001b[0;34m(self, tup)\u001b[0m\n\u001b[1;32m   1561\u001b[0m \u001b[38;5;28;01mdef\u001b[39;00m \u001b[38;5;21m_getitem_tuple\u001b[39m(\u001b[38;5;28mself\u001b[39m, tup: \u001b[38;5;28mtuple\u001b[39m):\n\u001b[0;32m-> 1563\u001b[0m     tup \u001b[38;5;241m=\u001b[39m \u001b[38;5;28;43mself\u001b[39;49m\u001b[38;5;241;43m.\u001b[39;49m\u001b[43m_validate_tuple_indexer\u001b[49m\u001b[43m(\u001b[49m\u001b[43mtup\u001b[49m\u001b[43m)\u001b[49m\n\u001b[1;32m   1564\u001b[0m     \u001b[38;5;28;01mwith\u001b[39;00m suppress(IndexingError):\n\u001b[1;32m   1565\u001b[0m         \u001b[38;5;28;01mreturn\u001b[39;00m \u001b[38;5;28mself\u001b[39m\u001b[38;5;241m.\u001b[39m_getitem_lowerdim(tup)\n",
      "File \u001b[0;32m~/.local/lib/python3.10/site-packages/pandas/core/indexing.py:873\u001b[0m, in \u001b[0;36m_LocationIndexer._validate_tuple_indexer\u001b[0;34m(self, key)\u001b[0m\n\u001b[1;32m    871\u001b[0m \u001b[38;5;28;01mfor\u001b[39;00m i, k \u001b[38;5;129;01min\u001b[39;00m \u001b[38;5;28menumerate\u001b[39m(key):\n\u001b[1;32m    872\u001b[0m     \u001b[38;5;28;01mtry\u001b[39;00m:\n\u001b[0;32m--> 873\u001b[0m         \u001b[38;5;28;43mself\u001b[39;49m\u001b[38;5;241;43m.\u001b[39;49m\u001b[43m_validate_key\u001b[49m\u001b[43m(\u001b[49m\u001b[43mk\u001b[49m\u001b[43m,\u001b[49m\u001b[43m \u001b[49m\u001b[43mi\u001b[49m\u001b[43m)\u001b[49m\n\u001b[1;32m    874\u001b[0m     \u001b[38;5;28;01mexcept\u001b[39;00m \u001b[38;5;167;01mValueError\u001b[39;00m \u001b[38;5;28;01mas\u001b[39;00m err:\n\u001b[1;32m    875\u001b[0m         \u001b[38;5;28;01mraise\u001b[39;00m \u001b[38;5;167;01mValueError\u001b[39;00m(\n\u001b[1;32m    876\u001b[0m             \u001b[38;5;124m\"\u001b[39m\u001b[38;5;124mLocation based indexing can only have \u001b[39m\u001b[38;5;124m\"\u001b[39m\n\u001b[1;32m    877\u001b[0m             \u001b[38;5;124mf\u001b[39m\u001b[38;5;124m\"\u001b[39m\u001b[38;5;124m[\u001b[39m\u001b[38;5;132;01m{\u001b[39;00m\u001b[38;5;28mself\u001b[39m\u001b[38;5;241m.\u001b[39m_valid_types\u001b[38;5;132;01m}\u001b[39;00m\u001b[38;5;124m] types\u001b[39m\u001b[38;5;124m\"\u001b[39m\n\u001b[1;32m    878\u001b[0m         ) \u001b[38;5;28;01mfrom\u001b[39;00m \u001b[38;5;21;01merr\u001b[39;00m\n",
      "File \u001b[0;32m~/.local/lib/python3.10/site-packages/pandas/core/indexing.py:1466\u001b[0m, in \u001b[0;36m_iLocIndexer._validate_key\u001b[0;34m(self, key, axis)\u001b[0m\n\u001b[1;32m   1464\u001b[0m     \u001b[38;5;28;01mreturn\u001b[39;00m\n\u001b[1;32m   1465\u001b[0m \u001b[38;5;28;01melif\u001b[39;00m is_integer(key):\n\u001b[0;32m-> 1466\u001b[0m     \u001b[38;5;28;43mself\u001b[39;49m\u001b[38;5;241;43m.\u001b[39;49m\u001b[43m_validate_integer\u001b[49m\u001b[43m(\u001b[49m\u001b[43mkey\u001b[49m\u001b[43m,\u001b[49m\u001b[43m \u001b[49m\u001b[43maxis\u001b[49m\u001b[43m)\u001b[49m\n\u001b[1;32m   1467\u001b[0m \u001b[38;5;28;01melif\u001b[39;00m \u001b[38;5;28misinstance\u001b[39m(key, \u001b[38;5;28mtuple\u001b[39m):\n\u001b[1;32m   1468\u001b[0m     \u001b[38;5;66;03m# a tuple should already have been caught by this point\u001b[39;00m\n\u001b[1;32m   1469\u001b[0m     \u001b[38;5;66;03m# so don't treat a tuple as a valid indexer\u001b[39;00m\n\u001b[1;32m   1470\u001b[0m     \u001b[38;5;28;01mraise\u001b[39;00m IndexingError(\u001b[38;5;124m\"\u001b[39m\u001b[38;5;124mToo many indexers\u001b[39m\u001b[38;5;124m\"\u001b[39m)\n",
      "File \u001b[0;32m~/.local/lib/python3.10/site-packages/pandas/core/indexing.py:1557\u001b[0m, in \u001b[0;36m_iLocIndexer._validate_integer\u001b[0;34m(self, key, axis)\u001b[0m\n\u001b[1;32m   1555\u001b[0m len_axis \u001b[38;5;241m=\u001b[39m \u001b[38;5;28mlen\u001b[39m(\u001b[38;5;28mself\u001b[39m\u001b[38;5;241m.\u001b[39mobj\u001b[38;5;241m.\u001b[39m_get_axis(axis))\n\u001b[1;32m   1556\u001b[0m \u001b[38;5;28;01mif\u001b[39;00m key \u001b[38;5;241m>\u001b[39m\u001b[38;5;241m=\u001b[39m len_axis \u001b[38;5;129;01mor\u001b[39;00m key \u001b[38;5;241m<\u001b[39m \u001b[38;5;241m-\u001b[39mlen_axis:\n\u001b[0;32m-> 1557\u001b[0m     \u001b[38;5;28;01mraise\u001b[39;00m \u001b[38;5;167;01mIndexError\u001b[39;00m(\u001b[38;5;124m\"\u001b[39m\u001b[38;5;124msingle positional indexer is out-of-bounds\u001b[39m\u001b[38;5;124m\"\u001b[39m)\n",
      "\u001b[0;31mIndexError\u001b[0m: single positional indexer is out-of-bounds"
     ]
    }
   ],
   "source": [
    "# WHAT IS BIG X????\n",
    "theta = np.zeros([df_without_house.shape[1]+1, y1.shape[1]])\n",
    "theta = gradient_descent(X, y1, theta, 0.02, 1500)\n",
    "theta"
   ]
  },
  {
   "cell_type": "code",
   "execution_count": null,
   "id": "ca96561c",
   "metadata": {},
   "outputs": [],
   "source": []
  },
  {
   "cell_type": "code",
   "execution_count": 14,
   "id": "1994e3a8-89ee-433c-8664-54b018d4eecf",
   "metadata": {
    "tags": []
   },
   "outputs": [],
   "source": [
    "X_train, X_test, y_train, y_test = train_test_split(df_without_house, df_only_house, test_size=0.15)"
   ]
  },
  {
   "cell_type": "code",
   "execution_count": 15,
   "id": "c246ee17-f946-49f4-b488-015f8b522707",
   "metadata": {
    "tags": []
   },
   "outputs": [
    {
     "data": {
      "text/html": [
       "<div>\n",
       "<style scoped>\n",
       "    .dataframe tbody tr th:only-of-type {\n",
       "        vertical-align: middle;\n",
       "    }\n",
       "\n",
       "    .dataframe tbody tr th {\n",
       "        vertical-align: top;\n",
       "    }\n",
       "\n",
       "    .dataframe thead th {\n",
       "        text-align: right;\n",
       "    }\n",
       "</style>\n",
       "<table border=\"1\" class=\"dataframe\">\n",
       "  <thead>\n",
       "    <tr style=\"text-align: right;\">\n",
       "      <th></th>\n",
       "      <th>Arithmancy</th>\n",
       "      <th>Astronomy</th>\n",
       "      <th>Herbology</th>\n",
       "      <th>Defense Against\\nthe Dark\\nArts</th>\n",
       "      <th>Divination</th>\n",
       "      <th>Muggle Studies</th>\n",
       "      <th>Ancient Runes</th>\n",
       "      <th>History of\\nMagic</th>\n",
       "      <th>Transfiguration</th>\n",
       "      <th>Potions</th>\n",
       "      <th>Care of\\nMagical Creatures\\n</th>\n",
       "      <th>Charms</th>\n",
       "      <th>Flying</th>\n",
       "    </tr>\n",
       "  </thead>\n",
       "  <tbody>\n",
       "    <tr>\n",
       "      <th>1237</th>\n",
       "      <td>0.580726</td>\n",
       "      <td>0.755638</td>\n",
       "      <td>0.392752</td>\n",
       "      <td>0.244362</td>\n",
       "      <td>0.921584</td>\n",
       "      <td>0.386145</td>\n",
       "      <td>0.807778</td>\n",
       "      <td>0.180710</td>\n",
       "      <td>0.401019</td>\n",
       "      <td>0.463093</td>\n",
       "      <td>0.450804</td>\n",
       "      <td>0.409569</td>\n",
       "      <td>0.803101</td>\n",
       "    </tr>\n",
       "    <tr>\n",
       "      <th>1154</th>\n",
       "      <td>0.511885</td>\n",
       "      <td>0.704180</td>\n",
       "      <td>0.201753</td>\n",
       "      <td>0.295820</td>\n",
       "      <td>0.709153</td>\n",
       "      <td>0.166130</td>\n",
       "      <td>0.581466</td>\n",
       "      <td>0.165609</td>\n",
       "      <td>0.171182</td>\n",
       "      <td>0.331072</td>\n",
       "      <td>0.397156</td>\n",
       "      <td>0.190241</td>\n",
       "      <td>0.814414</td>\n",
       "    </tr>\n",
       "    <tr>\n",
       "      <th>1050</th>\n",
       "      <td>0.594877</td>\n",
       "      <td>0.264307</td>\n",
       "      <td>0.285048</td>\n",
       "      <td>0.735693</td>\n",
       "      <td>0.198305</td>\n",
       "      <td>0.000000</td>\n",
       "      <td>0.242638</td>\n",
       "      <td>0.686207</td>\n",
       "      <td>0.727721</td>\n",
       "      <td>0.777309</td>\n",
       "      <td>0.520018</td>\n",
       "      <td>0.302623</td>\n",
       "      <td>0.257393</td>\n",
       "    </tr>\n",
       "    <tr>\n",
       "      <th>862</th>\n",
       "      <td>0.472612</td>\n",
       "      <td>0.758128</td>\n",
       "      <td>0.335379</td>\n",
       "      <td>0.241872</td>\n",
       "      <td>0.880431</td>\n",
       "      <td>0.325310</td>\n",
       "      <td>0.716057</td>\n",
       "      <td>0.186684</td>\n",
       "      <td>0.330795</td>\n",
       "      <td>0.439444</td>\n",
       "      <td>0.648700</td>\n",
       "      <td>0.361088</td>\n",
       "      <td>0.821840</td>\n",
       "    </tr>\n",
       "    <tr>\n",
       "      <th>449</th>\n",
       "      <td>0.685562</td>\n",
       "      <td>0.698216</td>\n",
       "      <td>0.213851</td>\n",
       "      <td>0.301784</td>\n",
       "      <td>0.680687</td>\n",
       "      <td>0.255743</td>\n",
       "      <td>0.672754</td>\n",
       "      <td>0.166889</td>\n",
       "      <td>0.186991</td>\n",
       "      <td>0.334828</td>\n",
       "      <td>0.420604</td>\n",
       "      <td>0.181803</td>\n",
       "      <td>0.774352</td>\n",
       "    </tr>\n",
       "    <tr>\n",
       "      <th>...</th>\n",
       "      <td>...</td>\n",
       "      <td>...</td>\n",
       "      <td>...</td>\n",
       "      <td>...</td>\n",
       "      <td>...</td>\n",
       "      <td>...</td>\n",
       "      <td>...</td>\n",
       "      <td>...</td>\n",
       "      <td>...</td>\n",
       "      <td>...</td>\n",
       "      <td>...</td>\n",
       "      <td>...</td>\n",
       "      <td>...</td>\n",
       "    </tr>\n",
       "    <tr>\n",
       "      <th>1492</th>\n",
       "      <td>0.431909</td>\n",
       "      <td>0.765317</td>\n",
       "      <td>0.243591</td>\n",
       "      <td>0.234683</td>\n",
       "      <td>0.785010</td>\n",
       "      <td>0.428247</td>\n",
       "      <td>0.710535</td>\n",
       "      <td>0.246146</td>\n",
       "      <td>0.289204</td>\n",
       "      <td>0.520391</td>\n",
       "      <td>0.576763</td>\n",
       "      <td>0.314746</td>\n",
       "      <td>0.786598</td>\n",
       "    </tr>\n",
       "    <tr>\n",
       "      <th>595</th>\n",
       "      <td>0.488633</td>\n",
       "      <td>0.197845</td>\n",
       "      <td>0.901753</td>\n",
       "      <td>0.802155</td>\n",
       "      <td>0.725199</td>\n",
       "      <td>0.620092</td>\n",
       "      <td>0.628463</td>\n",
       "      <td>0.611396</td>\n",
       "      <td>0.659269</td>\n",
       "      <td>0.482651</td>\n",
       "      <td>0.324978</td>\n",
       "      <td>0.910887</td>\n",
       "      <td>0.520867</td>\n",
       "    </tr>\n",
       "    <tr>\n",
       "      <th>691</th>\n",
       "      <td>0.408920</td>\n",
       "      <td>0.230309</td>\n",
       "      <td>0.634838</td>\n",
       "      <td>0.769691</td>\n",
       "      <td>0.738526</td>\n",
       "      <td>0.779365</td>\n",
       "      <td>0.713626</td>\n",
       "      <td>0.726507</td>\n",
       "      <td>0.885565</td>\n",
       "      <td>0.881477</td>\n",
       "      <td>0.633737</td>\n",
       "      <td>0.900565</td>\n",
       "      <td>0.359057</td>\n",
       "    </tr>\n",
       "    <tr>\n",
       "      <th>1183</th>\n",
       "      <td>0.816889</td>\n",
       "      <td>0.320831</td>\n",
       "      <td>0.178051</td>\n",
       "      <td>0.679169</td>\n",
       "      <td>0.000000</td>\n",
       "      <td>0.285215</td>\n",
       "      <td>0.186853</td>\n",
       "      <td>0.506674</td>\n",
       "      <td>0.881737</td>\n",
       "      <td>0.704364</td>\n",
       "      <td>0.496804</td>\n",
       "      <td>0.086764</td>\n",
       "      <td>0.182395</td>\n",
       "    </tr>\n",
       "    <tr>\n",
       "      <th>1265</th>\n",
       "      <td>0.549580</td>\n",
       "      <td>0.210124</td>\n",
       "      <td>0.738234</td>\n",
       "      <td>0.789876</td>\n",
       "      <td>0.697159</td>\n",
       "      <td>0.760042</td>\n",
       "      <td>0.702815</td>\n",
       "      <td>0.658804</td>\n",
       "      <td>0.792883</td>\n",
       "      <td>0.678448</td>\n",
       "      <td>0.512910</td>\n",
       "      <td>0.875793</td>\n",
       "      <td>0.397837</td>\n",
       "    </tr>\n",
       "  </tbody>\n",
       "</table>\n",
       "<p>1360 rows × 13 columns</p>\n",
       "</div>"
      ],
      "text/plain": [
       "      Arithmancy  Astronomy  Herbology  Defense Against\\nthe Dark\\nArts   \\\n",
       "1237    0.580726   0.755638   0.392752                          0.244362   \n",
       "1154    0.511885   0.704180   0.201753                          0.295820   \n",
       "1050    0.594877   0.264307   0.285048                          0.735693   \n",
       "862     0.472612   0.758128   0.335379                          0.241872   \n",
       "449     0.685562   0.698216   0.213851                          0.301784   \n",
       "...          ...        ...        ...                               ...   \n",
       "1492    0.431909   0.765317   0.243591                          0.234683   \n",
       "595     0.488633   0.197845   0.901753                          0.802155   \n",
       "691     0.408920   0.230309   0.634838                          0.769691   \n",
       "1183    0.816889   0.320831   0.178051                          0.679169   \n",
       "1265    0.549580   0.210124   0.738234                          0.789876   \n",
       "\n",
       "      Divination  Muggle Studies  Ancient Runes  History of\\nMagic   \\\n",
       "1237    0.921584        0.386145       0.807778            0.180710   \n",
       "1154    0.709153        0.166130       0.581466            0.165609   \n",
       "1050    0.198305        0.000000       0.242638            0.686207   \n",
       "862     0.880431        0.325310       0.716057            0.186684   \n",
       "449     0.680687        0.255743       0.672754            0.166889   \n",
       "...          ...             ...            ...                 ...   \n",
       "1492    0.785010        0.428247       0.710535            0.246146   \n",
       "595     0.725199        0.620092       0.628463            0.611396   \n",
       "691     0.738526        0.779365       0.713626            0.726507   \n",
       "1183    0.000000        0.285215       0.186853            0.506674   \n",
       "1265    0.697159        0.760042       0.702815            0.658804   \n",
       "\n",
       "      Transfiguration   Potions  Care of\\nMagical Creatures\\n    Charms  \\\n",
       "1237         0.401019  0.463093                      0.450804  0.409569   \n",
       "1154         0.171182  0.331072                      0.397156  0.190241   \n",
       "1050         0.727721  0.777309                      0.520018  0.302623   \n",
       "862          0.330795  0.439444                      0.648700  0.361088   \n",
       "449          0.186991  0.334828                      0.420604  0.181803   \n",
       "...               ...       ...                           ...       ...   \n",
       "1492         0.289204  0.520391                      0.576763  0.314746   \n",
       "595          0.659269  0.482651                      0.324978  0.910887   \n",
       "691          0.885565  0.881477                      0.633737  0.900565   \n",
       "1183         0.881737  0.704364                      0.496804  0.086764   \n",
       "1265         0.792883  0.678448                      0.512910  0.875793   \n",
       "\n",
       "        Flying  \n",
       "1237  0.803101  \n",
       "1154  0.814414  \n",
       "1050  0.257393  \n",
       "862   0.821840  \n",
       "449   0.774352  \n",
       "...        ...  \n",
       "1492  0.786598  \n",
       "595   0.520867  \n",
       "691   0.359057  \n",
       "1183  0.182395  \n",
       "1265  0.397837  \n",
       "\n",
       "[1360 rows x 13 columns]"
      ]
     },
     "execution_count": 15,
     "metadata": {},
     "output_type": "execute_result"
    }
   ],
   "source": [
    "X_train"
   ]
  },
  {
   "cell_type": "code",
   "execution_count": 16,
   "id": "19e91011-bb2b-4384-a62e-16f74e6eba56",
   "metadata": {
    "tags": []
   },
   "outputs": [
    {
     "data": {
      "text/plain": [
       "1237    Gryffindor\n",
       "1154    Gryffindor\n",
       "1050     Slytherin\n",
       "862     Gryffindor\n",
       "449     Gryffindor\n",
       "           ...    \n",
       "1492    Gryffindor\n",
       "595      Ravenclaw\n",
       "691      Ravenclaw\n",
       "1183     Slytherin\n",
       "1265     Ravenclaw\n",
       "Name: Hogwarts House, Length: 1360, dtype: object"
      ]
     },
     "execution_count": 16,
     "metadata": {},
     "output_type": "execute_result"
    }
   ],
   "source": [
    "y_train"
   ]
  },
  {
   "cell_type": "code",
   "execution_count": 17,
   "id": "28d35e9d-720f-4cee-836d-107a95e67ae5",
   "metadata": {
    "tags": []
   },
   "outputs": [
    {
     "data": {
      "text/plain": [
       "1316    Hufflepuff\n",
       "1090     Ravenclaw\n",
       "703      Ravenclaw\n",
       "403     Hufflepuff\n",
       "1164     Ravenclaw\n",
       "           ...    \n",
       "277     Hufflepuff\n",
       "685      Slytherin\n",
       "1190     Slytherin\n",
       "1455    Hufflepuff\n",
       "1272     Slytherin\n",
       "Name: Hogwarts House, Length: 240, dtype: object"
      ]
     },
     "execution_count": 17,
     "metadata": {},
     "output_type": "execute_result"
    }
   ],
   "source": [
    "y_test"
   ]
  },
  {
   "cell_type": "code",
   "execution_count": 305,
   "id": "2a10ff46-0499-41c9-8cc4-d009d1818eac",
   "metadata": {
    "tags": []
   },
   "outputs": [],
   "source": [
    "from sklearn.linear_model import LogisticRegression"
   ]
  },
  {
   "cell_type": "code",
   "execution_count": 322,
   "id": "f0ec41b1-abe8-4a1e-b70a-53bea058c92d",
   "metadata": {
    "tags": []
   },
   "outputs": [],
   "source": [
    "model = LogisticRegression(multi_class=\"multinomial\")"
   ]
  },
  {
   "cell_type": "code",
   "execution_count": 323,
   "id": "767716dc-5edf-4f55-9432-a77582659d2a",
   "metadata": {
    "tags": []
   },
   "outputs": [
    {
     "data": {
      "text/html": [
       "<style>#sk-container-id-15 {color: black;background-color: white;}#sk-container-id-15 pre{padding: 0;}#sk-container-id-15 div.sk-toggleable {background-color: white;}#sk-container-id-15 label.sk-toggleable__label {cursor: pointer;display: block;width: 100%;margin-bottom: 0;padding: 0.3em;box-sizing: border-box;text-align: center;}#sk-container-id-15 label.sk-toggleable__label-arrow:before {content: \"▸\";float: left;margin-right: 0.25em;color: #696969;}#sk-container-id-15 label.sk-toggleable__label-arrow:hover:before {color: black;}#sk-container-id-15 div.sk-estimator:hover label.sk-toggleable__label-arrow:before {color: black;}#sk-container-id-15 div.sk-toggleable__content {max-height: 0;max-width: 0;overflow: hidden;text-align: left;background-color: #f0f8ff;}#sk-container-id-15 div.sk-toggleable__content pre {margin: 0.2em;color: black;border-radius: 0.25em;background-color: #f0f8ff;}#sk-container-id-15 input.sk-toggleable__control:checked~div.sk-toggleable__content {max-height: 200px;max-width: 100%;overflow: auto;}#sk-container-id-15 input.sk-toggleable__control:checked~label.sk-toggleable__label-arrow:before {content: \"▾\";}#sk-container-id-15 div.sk-estimator input.sk-toggleable__control:checked~label.sk-toggleable__label {background-color: #d4ebff;}#sk-container-id-15 div.sk-label input.sk-toggleable__control:checked~label.sk-toggleable__label {background-color: #d4ebff;}#sk-container-id-15 input.sk-hidden--visually {border: 0;clip: rect(1px 1px 1px 1px);clip: rect(1px, 1px, 1px, 1px);height: 1px;margin: -1px;overflow: hidden;padding: 0;position: absolute;width: 1px;}#sk-container-id-15 div.sk-estimator {font-family: monospace;background-color: #f0f8ff;border: 1px dotted black;border-radius: 0.25em;box-sizing: border-box;margin-bottom: 0.5em;}#sk-container-id-15 div.sk-estimator:hover {background-color: #d4ebff;}#sk-container-id-15 div.sk-parallel-item::after {content: \"\";width: 100%;border-bottom: 1px solid gray;flex-grow: 1;}#sk-container-id-15 div.sk-label:hover label.sk-toggleable__label {background-color: #d4ebff;}#sk-container-id-15 div.sk-serial::before {content: \"\";position: absolute;border-left: 1px solid gray;box-sizing: border-box;top: 0;bottom: 0;left: 50%;z-index: 0;}#sk-container-id-15 div.sk-serial {display: flex;flex-direction: column;align-items: center;background-color: white;padding-right: 0.2em;padding-left: 0.2em;position: relative;}#sk-container-id-15 div.sk-item {position: relative;z-index: 1;}#sk-container-id-15 div.sk-parallel {display: flex;align-items: stretch;justify-content: center;background-color: white;position: relative;}#sk-container-id-15 div.sk-item::before, #sk-container-id-15 div.sk-parallel-item::before {content: \"\";position: absolute;border-left: 1px solid gray;box-sizing: border-box;top: 0;bottom: 0;left: 50%;z-index: -1;}#sk-container-id-15 div.sk-parallel-item {display: flex;flex-direction: column;z-index: 1;position: relative;background-color: white;}#sk-container-id-15 div.sk-parallel-item:first-child::after {align-self: flex-end;width: 50%;}#sk-container-id-15 div.sk-parallel-item:last-child::after {align-self: flex-start;width: 50%;}#sk-container-id-15 div.sk-parallel-item:only-child::after {width: 0;}#sk-container-id-15 div.sk-dashed-wrapped {border: 1px dashed gray;margin: 0 0.4em 0.5em 0.4em;box-sizing: border-box;padding-bottom: 0.4em;background-color: white;}#sk-container-id-15 div.sk-label label {font-family: monospace;font-weight: bold;display: inline-block;line-height: 1.2em;}#sk-container-id-15 div.sk-label-container {text-align: center;}#sk-container-id-15 div.sk-container {/* jupyter's `normalize.less` sets `[hidden] { display: none; }` but bootstrap.min.css set `[hidden] { display: none !important; }` so we also need the `!important` here to be able to override the default hidden behavior on the sphinx rendered scikit-learn.org. See: https://github.com/scikit-learn/scikit-learn/issues/21755 */display: inline-block !important;position: relative;}#sk-container-id-15 div.sk-text-repr-fallback {display: none;}</style><div id=\"sk-container-id-15\" class=\"sk-top-container\"><div class=\"sk-text-repr-fallback\"><pre>LogisticRegression(multi_class=&#x27;multinomial&#x27;)</pre><b>In a Jupyter environment, please rerun this cell to show the HTML representation or trust the notebook. <br />On GitHub, the HTML representation is unable to render, please try loading this page with nbviewer.org.</b></div><div class=\"sk-container\" hidden><div class=\"sk-item\"><div class=\"sk-estimator sk-toggleable\"><input class=\"sk-toggleable__control sk-hidden--visually\" id=\"sk-estimator-id-15\" type=\"checkbox\" checked><label for=\"sk-estimator-id-15\" class=\"sk-toggleable__label sk-toggleable__label-arrow\">LogisticRegression</label><div class=\"sk-toggleable__content\"><pre>LogisticRegression(multi_class=&#x27;multinomial&#x27;)</pre></div></div></div></div></div>"
      ],
      "text/plain": [
       "LogisticRegression(multi_class='multinomial')"
      ]
     },
     "execution_count": 323,
     "metadata": {},
     "output_type": "execute_result"
    }
   ],
   "source": [
    "model.fit(X_train.values, y_train.values)"
   ]
  },
  {
   "cell_type": "code",
   "execution_count": 324,
   "id": "9b50b1ab-ce7e-48c0-802c-d59ba4b8df08",
   "metadata": {
    "tags": []
   },
   "outputs": [
    {
     "data": {
      "text/plain": [
       "array(['Slytherin', 'Ravenclaw', 'Hufflepuff', 'Slytherin', 'Hufflepuff',\n",
       "       'Slytherin', 'Hufflepuff', 'Hufflepuff', 'Gryffindor',\n",
       "       'Gryffindor', 'Hufflepuff', 'Gryffindor', 'Slytherin',\n",
       "       'Gryffindor', 'Hufflepuff', 'Slytherin', 'Gryffindor', 'Ravenclaw',\n",
       "       'Slytherin', 'Slytherin', 'Slytherin', 'Ravenclaw', 'Gryffindor',\n",
       "       'Slytherin', 'Gryffindor', 'Hufflepuff', 'Ravenclaw', 'Gryffindor',\n",
       "       'Hufflepuff', 'Gryffindor', 'Hufflepuff', 'Slytherin',\n",
       "       'Hufflepuff', 'Ravenclaw', 'Hufflepuff', 'Hufflepuff',\n",
       "       'Hufflepuff', 'Gryffindor', 'Slytherin', 'Hufflepuff',\n",
       "       'Hufflepuff', 'Slytherin', 'Ravenclaw', 'Hufflepuff', 'Hufflepuff',\n",
       "       'Hufflepuff', 'Gryffindor', 'Ravenclaw', 'Ravenclaw', 'Ravenclaw',\n",
       "       'Hufflepuff', 'Hufflepuff', 'Slytherin', 'Slytherin', 'Ravenclaw',\n",
       "       'Hufflepuff', 'Gryffindor', 'Slytherin', 'Gryffindor',\n",
       "       'Hufflepuff', 'Hufflepuff', 'Hufflepuff', 'Hufflepuff',\n",
       "       'Hufflepuff', 'Slytherin', 'Gryffindor', 'Ravenclaw', 'Hufflepuff',\n",
       "       'Slytherin', 'Slytherin', 'Slytherin', 'Gryffindor', 'Gryffindor',\n",
       "       'Slytherin', 'Hufflepuff', 'Slytherin', 'Hufflepuff', 'Gryffindor',\n",
       "       'Hufflepuff', 'Slytherin', 'Gryffindor', 'Gryffindor', 'Ravenclaw',\n",
       "       'Slytherin', 'Slytherin', 'Ravenclaw', 'Gryffindor', 'Hufflepuff',\n",
       "       'Hufflepuff', 'Hufflepuff', 'Gryffindor', 'Slytherin',\n",
       "       'Gryffindor', 'Slytherin', 'Hufflepuff', 'Gryffindor',\n",
       "       'Gryffindor', 'Ravenclaw', 'Hufflepuff', 'Slytherin', 'Slytherin',\n",
       "       'Hufflepuff', 'Hufflepuff', 'Ravenclaw', 'Hufflepuff', 'Slytherin',\n",
       "       'Hufflepuff', 'Slytherin', 'Slytherin', 'Gryffindor', 'Gryffindor',\n",
       "       'Slytherin', 'Gryffindor', 'Slytherin', 'Gryffindor', 'Slytherin',\n",
       "       'Hufflepuff', 'Ravenclaw', 'Gryffindor', 'Ravenclaw', 'Ravenclaw',\n",
       "       'Gryffindor', 'Ravenclaw', 'Ravenclaw', 'Hufflepuff', 'Gryffindor',\n",
       "       'Hufflepuff', 'Ravenclaw', 'Ravenclaw', 'Ravenclaw', 'Hufflepuff',\n",
       "       'Hufflepuff', 'Slytherin', 'Ravenclaw', 'Slytherin', 'Ravenclaw',\n",
       "       'Hufflepuff', 'Ravenclaw', 'Gryffindor', 'Hufflepuff', 'Ravenclaw',\n",
       "       'Hufflepuff', 'Slytherin', 'Slytherin', 'Ravenclaw', 'Ravenclaw',\n",
       "       'Slytherin', 'Gryffindor', 'Gryffindor', 'Ravenclaw', 'Slytherin',\n",
       "       'Ravenclaw', 'Hufflepuff', 'Gryffindor', 'Ravenclaw', 'Hufflepuff',\n",
       "       'Gryffindor', 'Hufflepuff', 'Ravenclaw', 'Ravenclaw', 'Hufflepuff',\n",
       "       'Slytherin', 'Slytherin', 'Slytherin', 'Ravenclaw', 'Gryffindor',\n",
       "       'Ravenclaw', 'Ravenclaw', 'Hufflepuff', 'Gryffindor', 'Hufflepuff',\n",
       "       'Hufflepuff', 'Hufflepuff', 'Ravenclaw', 'Gryffindor',\n",
       "       'Gryffindor', 'Hufflepuff', 'Ravenclaw', 'Ravenclaw', 'Ravenclaw',\n",
       "       'Gryffindor', 'Hufflepuff', 'Hufflepuff', 'Ravenclaw', 'Ravenclaw',\n",
       "       'Gryffindor', 'Slytherin', 'Ravenclaw', 'Hufflepuff', 'Hufflepuff',\n",
       "       'Hufflepuff', 'Hufflepuff', 'Gryffindor', 'Ravenclaw',\n",
       "       'Hufflepuff', 'Ravenclaw', 'Ravenclaw', 'Ravenclaw', 'Ravenclaw',\n",
       "       'Ravenclaw', 'Gryffindor', 'Hufflepuff', 'Ravenclaw', 'Hufflepuff',\n",
       "       'Gryffindor', 'Hufflepuff', 'Hufflepuff', 'Hufflepuff',\n",
       "       'Hufflepuff', 'Gryffindor', 'Hufflepuff', 'Hufflepuff',\n",
       "       'Hufflepuff', 'Ravenclaw', 'Hufflepuff', 'Ravenclaw', 'Hufflepuff',\n",
       "       'Hufflepuff', 'Ravenclaw', 'Gryffindor', 'Hufflepuff',\n",
       "       'Hufflepuff', 'Hufflepuff', 'Ravenclaw', 'Slytherin', 'Hufflepuff',\n",
       "       'Hufflepuff', 'Hufflepuff', 'Ravenclaw', 'Hufflepuff',\n",
       "       'Gryffindor', 'Gryffindor', 'Hufflepuff', 'Hufflepuff',\n",
       "       'Slytherin', 'Gryffindor', 'Hufflepuff', 'Hufflepuff', 'Slytherin',\n",
       "       'Gryffindor'], dtype=object)"
      ]
     },
     "execution_count": 324,
     "metadata": {},
     "output_type": "execute_result"
    }
   ],
   "source": [
    "model.predict(X_test.values)\n"
   ]
  },
  {
   "cell_type": "code",
   "execution_count": 325,
   "id": "5a9ec9ac-fa74-43ee-b3fe-9130a50d3d7b",
   "metadata": {
    "tags": []
   },
   "outputs": [
    {
     "data": {
      "text/plain": [
       "0.9833333333333333"
      ]
     },
     "execution_count": 325,
     "metadata": {},
     "output_type": "execute_result"
    }
   ],
   "source": [
    "model.score(X_test.values, y_test.values)"
   ]
  },
  {
   "cell_type": "code",
   "execution_count": 326,
   "id": "8c935578-a5da-465d-9c50-f7ac5aede989",
   "metadata": {
    "tags": []
   },
   "outputs": [
    {
     "data": {
      "text/plain": [
       "'Hufflepuff'"
      ]
     },
     "execution_count": 326,
     "metadata": {},
     "output_type": "execute_result"
    }
   ],
   "source": [
    "df[\"Hogwarts House\"][23]"
   ]
  },
  {
   "cell_type": "code",
   "execution_count": 327,
   "id": "94d6ede2-5e29-4afd-ade4-e565b46d6de2",
   "metadata": {
    "tags": []
   },
   "outputs": [
    {
     "data": {
      "text/plain": [
       "Hogwarts House                      Hufflepuff\n",
       "Arithmancy                            0.536296\n",
       "Astronomy                             0.827003\n",
       "Herbology                             0.475941\n",
       "Defense Against\\nthe Dark\\nArts       0.172997\n",
       "Divination                            0.967429\n",
       "Muggle Studies                        0.172933\n",
       "Ancient Runes                         0.385735\n",
       "History of\\nMagic                     0.452598\n",
       "Transfiguration                       0.868076\n",
       "Potions                               0.605647\n",
       "Care of\\nMagical Creatures\\n          0.794548\n",
       "Charms                                 0.42723\n",
       "Flying                                0.444978\n",
       "Name: 23, dtype: object"
      ]
     },
     "execution_count": 327,
     "metadata": {},
     "output_type": "execute_result"
    }
   ],
   "source": [
    "df.iloc[23]"
   ]
  },
  {
   "cell_type": "code",
   "execution_count": 328,
   "id": "609a189b-3d66-484a-b339-8e9d84f4255c",
   "metadata": {
    "tags": []
   },
   "outputs": [
    {
     "data": {
      "text/plain": [
       "array(['Hufflepuff'], dtype=object)"
      ]
     },
     "execution_count": 328,
     "metadata": {},
     "output_type": "execute_result"
    }
   ],
   "source": [
    "model.predict([df_without_house.iloc[23]])"
   ]
  },
  {
   "cell_type": "code",
   "execution_count": 329,
   "id": "20195df3-ecb3-4b2c-b738-32eb157e5090",
   "metadata": {
    "tags": []
   },
   "outputs": [
    {
     "name": "stdout",
     "output_type": "stream",
     "text": [
      "86 47 51 56\n"
     ]
    },
    {
     "data": {
      "text/plain": [
       "array([[51,  0,  2,  0],\n",
       "       [ 0, 85,  0,  0],\n",
       "       [ 0,  0, 53,  0],\n",
       "       [ 0,  1,  1, 47]])"
      ]
     },
     "execution_count": 329,
     "metadata": {},
     "output_type": "execute_result"
    }
   ],
   "source": [
    "# get confusion matrix\n",
    "y_predicted = model.predict(X_test.values)\n",
    "\n",
    "huffle = 0\n",
    "slyth = 0\n",
    "gryf = 0\n",
    "rav = 0\n",
    "for i in range(len(y_predicted)):\n",
    "    if y_predicted[i] == \"Hufflepuff\":\n",
    "        huffle+=1\n",
    "    elif y_predicted[i] == \"Slytherin\":\n",
    "        slyth+=1\n",
    "    elif y_predicted[i] == \"Gryffindor\":\n",
    "        gryf+=1\n",
    "    elif y_predicted[i] == \"Ravenclaw\":\n",
    "        rav+=1\n",
    "print(huffle, slyth, gryf, rav)\n",
    "from sklearn.metrics import confusion_matrix\n",
    "\n",
    "confusion_matrix = confusion_matrix(y_test, y_predicted)\n",
    "confusion_matrix"
   ]
  },
  {
   "cell_type": "code",
   "execution_count": 330,
   "id": "8ecafe99-6823-4370-a51d-386282aac6a5",
   "metadata": {
    "tags": []
   },
   "outputs": [
    {
     "data": {
      "text/plain": [
       "Text(95.72222222222221, 0.5, 'Truth')"
      ]
     },
     "execution_count": 330,
     "metadata": {},
     "output_type": "execute_result"
    },
    {
     "data": {
      "image/png": "[encoded data removed]",
      "text/plain": [
       "<Figure size 1000x700 with 2 Axes>"
      ]
     },
     "metadata": {},
     "output_type": "display_data"
    }
   ],
   "source": [
    "import seaborn as sn\n",
    "plt.figure(figsize = (10,7))\n",
    "sn.heatmap(confusion_matrix, annot=True, xticklabels=[\"Gryffindor\", \"Hufflepuff\", \"Ravenclaw\", \"Slytherin\"], yticklabels=[\"Gryffindor\", \"Hufflepuff\", \"Ravenclaw\", \"Slytherin\"])\n",
    "plt.xlabel('Predicted')\n",
    "plt.ylabel('Truth')\n"
   ]
  },
  {
   "cell_type": "code",
   "execution_count": 332,
   "id": "afa17c15-d50c-4414-8902-b64736857dc0",
   "metadata": {
    "tags": []
   },
   "outputs": [
    {
     "data": {
      "text/plain": [
       "0.9833333333333333"
      ]
     },
     "execution_count": 332,
     "metadata": {},
     "output_type": "execute_result"
    }
   ],
   "source": [
    "model.score(X_test.values, y_test.values)"
   ]
  },
  {
   "cell_type": "code",
   "execution_count": null,
   "id": "20edf1df-82f6-46be-8eb1-bfaf2ab38493",
   "metadata": {},
   "outputs": [],
   "source": []
  }
 ],
 "metadata": {
  "kernelspec": {
   "display_name": "Python 3 (ipykernel)",
   "language": "python",
   "name": "python3"
  },
  "language_info": {
   "codemirror_mode": {
    "name": "ipython",
    "version": 3
   },
   "file_extension": ".py",
   "mimetype": "text/x-python",
   "name": "python",
   "nbconvert_exporter": "python",
   "pygments_lexer": "ipython3",
   "version": "3.10.10"
  }
 },
 "nbformat": 4,
 "nbformat_minor": 5
}
